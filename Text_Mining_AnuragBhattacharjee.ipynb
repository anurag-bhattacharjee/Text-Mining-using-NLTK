{
 "cells": [
  {
   "cell_type": "code",
   "execution_count": 1,
   "metadata": {
    "colab": {
     "base_uri": "https://localhost:8080/"
    },
    "executionInfo": {
     "elapsed": 16208,
     "status": "ok",
     "timestamp": 1639244681411,
     "user": {
      "displayName": "Sumit Jha",
      "photoUrl": "https://lh3.googleusercontent.com/a-/AOh14GhVOl8a8a3yiy_OIJS8QsQgJaquENW3b6sRwdfR=s64",
      "userId": "12043371557728758634"
     },
     "user_tz": 420
    },
    "id": "w1hDk9hDvOH7",
    "outputId": "e8bfdd43-279b-4ba6-86d8-3704f259018b"
   },
   "outputs": [
    {
     "name": "stdout",
     "output_type": "stream",
     "text": [
      "Mounted at /gdrive\n",
      "/gdrive\n"
     ]
    }
   ],
   "source": [
    "from google.colab import drive\n",
    "drive.mount('/gdrive')\n",
    "#Change current working directory to gdrive\n",
    "%cd /gdrive\n"
   ]
  },
  {
   "cell_type": "code",
   "execution_count": 1,
   "metadata": {
    "colab": {
     "base_uri": "https://localhost:8080/"
    },
    "executionInfo": {
     "elapsed": 3497,
     "status": "ok",
     "timestamp": 1639249239417,
     "user": {
      "displayName": "Sumit Jha",
      "photoUrl": "https://lh3.googleusercontent.com/a-/AOh14GhVOl8a8a3yiy_OIJS8QsQgJaquENW3b6sRwdfR=s64",
      "userId": "12043371557728758634"
     },
     "user_tz": 420
    },
    "id": "p_k0z66e38lG",
    "outputId": "b031027f-28ac-4edc-fa6d-84fe28ea88cb"
   },
   "outputs": [
    {
     "name": "stderr",
     "output_type": "stream",
     "text": [
      "[nltk_data] Downloading package punkt to\n",
      "[nltk_data]     /Users/anuragbhattacharjee/nltk_data...\n",
      "[nltk_data]   Package punkt is already up-to-date!\n"
     ]
    },
    {
     "name": "stdout",
     "output_type": "stream",
     "text": [
      "Requirement already satisfied: mlxtend in /Users/anuragbhattacharjee/opt/anaconda3/lib/python3.8/site-packages (0.19.0)\n",
      "Requirement already satisfied: matplotlib>=3.0.0 in /Users/anuragbhattacharjee/opt/anaconda3/lib/python3.8/site-packages (from mlxtend) (3.5.0)\n",
      "Requirement already satisfied: pandas>=0.24.2 in /Users/anuragbhattacharjee/opt/anaconda3/lib/python3.8/site-packages (from mlxtend) (1.2.4)\n",
      "Requirement already satisfied: numpy>=1.16.2 in /Users/anuragbhattacharjee/opt/anaconda3/lib/python3.8/site-packages (from mlxtend) (1.21.4)\n",
      "Requirement already satisfied: scikit-learn>=0.20.3 in /Users/anuragbhattacharjee/opt/anaconda3/lib/python3.8/site-packages (from mlxtend) (0.24.1)\n",
      "Requirement already satisfied: joblib>=0.13.2 in /Users/anuragbhattacharjee/opt/anaconda3/lib/python3.8/site-packages (from mlxtend) (1.0.1)\n",
      "Requirement already satisfied: scipy>=1.2.1 in /Users/anuragbhattacharjee/opt/anaconda3/lib/python3.8/site-packages (from mlxtend) (1.6.2)\n",
      "Requirement already satisfied: setuptools in /Users/anuragbhattacharjee/opt/anaconda3/lib/python3.8/site-packages (from mlxtend) (52.0.0.post20210125)\n",
      "Requirement already satisfied: kiwisolver>=1.0.1 in /Users/anuragbhattacharjee/opt/anaconda3/lib/python3.8/site-packages (from matplotlib>=3.0.0->mlxtend) (1.3.1)\n",
      "Requirement already satisfied: cycler>=0.10 in /Users/anuragbhattacharjee/opt/anaconda3/lib/python3.8/site-packages (from matplotlib>=3.0.0->mlxtend) (0.10.0)\n",
      "Requirement already satisfied: fonttools>=4.22.0 in /Users/anuragbhattacharjee/opt/anaconda3/lib/python3.8/site-packages (from matplotlib>=3.0.0->mlxtend) (4.28.2)\n",
      "Requirement already satisfied: pyparsing>=2.2.1 in /Users/anuragbhattacharjee/opt/anaconda3/lib/python3.8/site-packages (from matplotlib>=3.0.0->mlxtend) (2.4.7)\n",
      "Requirement already satisfied: pillow>=6.2.0 in /Users/anuragbhattacharjee/opt/anaconda3/lib/python3.8/site-packages (from matplotlib>=3.0.0->mlxtend) (8.2.0)\n",
      "Requirement already satisfied: packaging>=20.0 in /Users/anuragbhattacharjee/opt/anaconda3/lib/python3.8/site-packages (from matplotlib>=3.0.0->mlxtend) (20.9)\n",
      "Requirement already satisfied: setuptools-scm>=4 in /Users/anuragbhattacharjee/opt/anaconda3/lib/python3.8/site-packages (from matplotlib>=3.0.0->mlxtend) (6.3.2)\n",
      "Requirement already satisfied: python-dateutil>=2.7 in /Users/anuragbhattacharjee/opt/anaconda3/lib/python3.8/site-packages (from matplotlib>=3.0.0->mlxtend) (2.8.1)\n",
      "Requirement already satisfied: six in /Users/anuragbhattacharjee/opt/anaconda3/lib/python3.8/site-packages (from cycler>=0.10->matplotlib>=3.0.0->mlxtend) (1.15.0)\n",
      "Requirement already satisfied: pytz>=2017.3 in /Users/anuragbhattacharjee/opt/anaconda3/lib/python3.8/site-packages (from pandas>=0.24.2->mlxtend) (2021.1)\n",
      "Requirement already satisfied: threadpoolctl>=2.0.0 in /Users/anuragbhattacharjee/opt/anaconda3/lib/python3.8/site-packages (from scikit-learn>=0.20.3->mlxtend) (2.1.0)\n",
      "Requirement already satisfied: tomli>=1.0.0 in /Users/anuragbhattacharjee/opt/anaconda3/lib/python3.8/site-packages (from setuptools-scm>=4->matplotlib>=3.0.0->mlxtend) (1.2.2)\n"
     ]
    }
   ],
   "source": [
    "import pandas as pd\n",
    "import numpy as np\n",
    "\n",
    "from sklearn.feature_extraction.text import CountVectorizer\n",
    "from sklearn.feature_extraction.text import TfidfTransformer\n",
    "from sklearn.model_selection import train_test_split\n",
    "\n",
    "from sklearn.ensemble import ExtraTreesClassifier\n",
    "from sklearn.feature_selection import SelectFromModel\n",
    "\n",
    "\n",
    "#NLTK-------------------------------\n",
    "import nltk\n",
    "nltk.download('punkt')\n",
    "from nltk.tokenize import word_tokenize\n",
    "from nltk.stem.snowball import SnowballStemmer\n",
    "from nltk.stem import PorterStemmer\n",
    "from nltk.corpus import stopwords\n",
    "#from nltk.stemporter import PorterStemmer\n",
    "\n",
    "# Import libraries for feature \n",
    "from sklearn.feature_selection import SelectKBest\n",
    "from sklearn.feature_selection import chi2\n",
    "\n",
    "\n",
    "from sklearn.ensemble import GradientBoostingClassifier\n",
    "from sklearn.tree import DecisionTreeClassifier\n",
    "from sklearn.ensemble import RandomForestClassifier\n",
    "from sklearn.neural_network import MLPClassifier\n",
    "from sklearn.svm import SVC\n",
    "from sklearn.metrics import confusion_matrix,classification_report\n",
    "from sklearn import metrics\n",
    "from sklearn.model_selection import cross_val_score\n",
    "\n",
    "import warnings\n",
    "warnings.filterwarnings(\"ignore\")\n",
    "!pip install mlxtend\n",
    "import joblib\n",
    "import sys\n",
    "sys.modules['sklearn.externals.joblib'] = joblib\n",
    "from mlxtend.feature_selection import SequentialFeatureSelector as SFS\n",
    "\n"
   ]
  },
  {
   "cell_type": "code",
   "execution_count": 2,
   "metadata": {
    "colab": {
     "base_uri": "https://localhost:8080/"
    },
    "executionInfo": {
     "elapsed": 661,
     "status": "ok",
     "timestamp": 1639244690730,
     "user": {
      "displayName": "Sumit Jha",
      "photoUrl": "https://lh3.googleusercontent.com/a-/AOh14GhVOl8a8a3yiy_OIJS8QsQgJaquENW3b6sRwdfR=s64",
      "userId": "12043371557728758634"
     },
     "user_tz": 420
    },
    "id": "BMwGQK7KAd7T",
    "outputId": "f8f5084a-7ef8-46f6-e714-0340370126a0"
   },
   "outputs": [
    {
     "name": "stdout",
     "output_type": "stream",
     "text": [
      "(2070, 2)\n",
      "(2070, 17)\n"
     ]
    }
   ],
   "source": [
    "#Read files\n",
    "textfile = r'Comments.csv'\n",
    "textData = pd.read_csv(textfile) #creates a dataframe\n",
    "\n",
    "CustInfofile = r'Customers.csv'\n",
    "CustInfoData = pd.read_csv(CustInfofile)  #creates a dataframe\n",
    "\n",
    "print(textData.shape)\n",
    "print(CustInfoData.shape)\n"
   ]
  },
  {
   "cell_type": "code",
   "execution_count": 3,
   "metadata": {
    "colab": {
     "base_uri": "https://localhost:8080/"
    },
    "executionInfo": {
     "elapsed": 127,
     "status": "ok",
     "timestamp": 1639244694339,
     "user": {
      "displayName": "Sumit Jha",
      "photoUrl": "https://lh3.googleusercontent.com/a-/AOh14GhVOl8a8a3yiy_OIJS8QsQgJaquENW3b6sRwdfR=s64",
      "userId": "12043371557728758634"
     },
     "user_tz": 420
    },
    "id": "SWOTk6C1Ao45",
    "outputId": "00faca68-3be0-420d-d131-4cdd7001d1de"
   },
   "outputs": [
    {
     "name": "stdout",
     "output_type": "stream",
     "text": [
      "(2070, 16)\n",
      "(2070, 2)\n",
      "     ID                                           Comments\n",
      "0  1309  Does not like the way the phone works. It is t...\n",
      "1  3556  Wanted to know the nearest store location. Wan...\n",
      "2  2230  Wants to know how to do text messaging. Referr...\n",
      "3  2312  Asked how to disable call waiting. referred hi...\n",
      "4  3327  Needs help learning how to use the phone. I su...\n",
      "0       Cancelled\n",
      "1         Current\n",
      "2         Current\n",
      "3         Current\n",
      "4       Cancelled\n",
      "          ...    \n",
      "2065    Cancelled\n",
      "2066    Cancelled\n",
      "2067    Cancelled\n",
      "2068    Cancelled\n",
      "2069    Cancelled\n",
      "Name: TARGET, Length: 2070, dtype: object\n"
     ]
    }
   ],
   "source": [
    "#Extract target column from Customer Info file\n",
    "y_train = CustInfoData[\"TARGET\"]\n",
    "X_train = CustInfoData.drop(columns=[\"TARGET\"]) #extracting training data without the target column\n",
    "                     \n",
    "print(X_train.shape)\n",
    "print(textData.shape)\n",
    "print(textData.head())\n",
    "print(y_train)"
   ]
  },
  {
   "cell_type": "code",
   "execution_count": 4,
   "metadata": {
    "executionInfo": {
     "elapsed": 932,
     "status": "ok",
     "timestamp": 1639244699032,
     "user": {
      "displayName": "Sumit Jha",
      "photoUrl": "https://lh3.googleusercontent.com/a-/AOh14GhVOl8a8a3yiy_OIJS8QsQgJaquENW3b6sRwdfR=s64",
      "userId": "12043371557728758634"
     },
     "user_tz": 420
    },
    "id": "cuWYNz2Ep17l"
   },
   "outputs": [],
   "source": [
    "#Tokenize - Split the sentences to lists of words\n",
    "textData['CommentsTokenized'] = textData['Comments'].apply(word_tokenize)\n",
    "\n",
    "export_csv = textData.to_csv(r'TextDataTokenized1.csv')\n",
    "\n",
    "\n"
   ]
  },
  {
   "cell_type": "code",
   "execution_count": 5,
   "metadata": {
    "executionInfo": {
     "elapsed": 831,
     "status": "ok",
     "timestamp": 1639244702367,
     "user": {
      "displayName": "Sumit Jha",
      "photoUrl": "https://lh3.googleusercontent.com/a-/AOh14GhVOl8a8a3yiy_OIJS8QsQgJaquENW3b6sRwdfR=s64",
      "userId": "12043371557728758634"
     },
     "user_tz": 420
    },
    "id": "XeYXLU-u_v9R"
   },
   "outputs": [],
   "source": [
    "# Use Snowball stemmer.\n",
    "stemmer = SnowballStemmer(\"english\")\n",
    "\n",
    "#Now do stemming - create a new dataframe to store stemmed version\n",
    "newTextData=pd.DataFrame()\n",
    "newTextData=textData.drop(columns=[\"CommentsTokenized\",\"Comments\"])\n",
    "newTextData['CommentsTokenizedStemmed'] = textData['CommentsTokenized'].apply(lambda x: [stemmer.stem(y) for y in x]) # Stem every word.\n",
    "\n",
    "export_csv = newTextData.to_csv(r'SnownewTextDataTS.csv')\n"
   ]
  },
  {
   "cell_type": "code",
   "execution_count": 6,
   "metadata": {
    "executionInfo": {
     "elapsed": 1103,
     "status": "ok",
     "timestamp": 1639244707459,
     "user": {
      "displayName": "Sumit Jha",
      "photoUrl": "https://lh3.googleusercontent.com/a-/AOh14GhVOl8a8a3yiy_OIJS8QsQgJaquENW3b6sRwdfR=s64",
      "userId": "12043371557728758634"
     },
     "user_tz": 420
    },
    "id": "sSJqDLlTACTG"
   },
   "outputs": [],
   "source": [
    "# Use Porter stemmer.\n",
    "stemmer_1 = PorterStemmer()\n",
    "\n",
    "#Now do stemming - create a new dataframe to store stemmed version\n",
    "newTextData_1=pd.DataFrame()\n",
    "newTextData_1=textData.drop(columns=[\"CommentsTokenized\",\"Comments\"])\n",
    "newTextData_1['CommentsTokenizedStemmed_1'] = textData['CommentsTokenized'].apply(lambda x: [stemmer_1.stem(y) for y in x]) # Stem every word.\n",
    "\n",
    "export_csv = newTextData.to_csv(r'Porter_newTextDataTS.csv')\n"
   ]
  },
  {
   "cell_type": "code",
   "execution_count": 7,
   "metadata": {
    "executionInfo": {
     "elapsed": 301,
     "status": "ok",
     "timestamp": 1639244711369,
     "user": {
      "displayName": "Sumit Jha",
      "photoUrl": "https://lh3.googleusercontent.com/a-/AOh14GhVOl8a8a3yiy_OIJS8QsQgJaquENW3b6sRwdfR=s64",
      "userId": "12043371557728758634"
     },
     "user_tz": 420
    },
    "id": "M07E7VW7_y0d"
   },
   "outputs": [],
   "source": [
    "\n",
    "#Join stemmed strings\n",
    "newTextData['CommentsTokenizedStemmed'] = newTextData['CommentsTokenizedStemmed'].apply(lambda x: \" \".join(x))\n",
    "\n",
    "export_csv = newTextData.to_csv(r'newTextData-Joined.csv')"
   ]
  },
  {
   "cell_type": "code",
   "execution_count": 8,
   "metadata": {
    "colab": {
     "base_uri": "https://localhost:8080/"
    },
    "executionInfo": {
     "elapsed": 617,
     "status": "ok",
     "timestamp": 1639244718232,
     "user": {
      "displayName": "Sumit Jha",
      "photoUrl": "https://lh3.googleusercontent.com/a-/AOh14GhVOl8a8a3yiy_OIJS8QsQgJaquENW3b6sRwdfR=s64",
      "userId": "12043371557728758634"
     },
     "user_tz": 420
    },
    "id": "WiBguQloljam",
    "outputId": "d4fab83a-d732-49ff-dbca-9a76c5ac38b4"
   },
   "outputs": [
    {
     "name": "stdout",
     "output_type": "stream",
     "text": [
      "(2070, 354)\n",
      "int64\n",
      "['3399', '3g', 'abysm', 'access', 'accessori', 'adapt', 'add', 'addit', 'additon', 'address', 'adit', 'adress', 'advertis', 'afraid', 'alway', 'angel', 'angri', 'ani', 'anoth', 'anyth', 'anytim', 'area', 'asap', 'ask', 'bad', 'basic', 'bateri', 'batteri', 'becaus', 'believ', 'better', 'bigger', 'book', 'bought', 'brain', 'bring', 'built', 'busi', 'button', 'buy', 'cancel', 'cancer', 'car', 'care', 'carrier', 'caus', 'cc', 'cell', 'certain', 'chang', 'charg', 'charger', 'check', 'chip', 'citi', 'claim', 'cleariti', 'cold', 'comapr', 'compani', 'compar', 'competit', 'complain', 'complaint', 'concept', 'connect', 'consisit', 'consist', 'constan', 'contact', 'continu', 'contract', 'correct', 'cost', 'coupl', 'cover', 'coverag', 'creat', 'credit', 'cstmer', 'cstmr', 'current', 'cust', 'custom', 'customr', 'date', 'day', 'dead', 'decent', 'defect', 'deo', 'did', 'die', 'differ', 'difficult', 'digiti', 'direct', 'disabl', 'doe', 'don', 'dont', 'drop', 'dure', 'easier', 'effect', 'encount', 'end', 'enemi', 'equip', 'everytim', 'everywher', 'evrey', 'exact', 'expect', 'expir', 'explain', 'facepl', 'fals', 'famili', 'featur', 'fed', 'figur', 'fine', 'fix', 'forev', 'forward', 'friend', 'function', 'furthermor', 'futur', 'gave', 'goat', 'good', 'great', 'gsm', 'handset', 'happi', 'hard', 'hate', 'hear', 'heard', 'help', 'higher', 'highway', 'hochi', 'hole', 'home', 'hope', 'horribl', 'hous', 'implement', 'improv', 'inadequ', 'includ', 'info', 'inform', 'ing', 'internet', 'intersect', 'issu', 'june', 'just', 'kid', 'kno', 'know', 'lame', 'later', 'lctn', 'learn', 'leroy', 'like', 'line', 'list', 'local', 'locat', 'locatn', 'long', 'los', 'lost', 'lot', 'love', 'major', 'make', 'manag', 'mani', 'manual', 'market', 'mean', 'messag', 'metropolitian', 'minut', 'misl', 'mistak', 'model', 'momma', 'mr', 'napeleon', 'near', 'nearest', 'need', 'network', 'new', 'news', 'notic', 'number', 'numer', 'offer', 'old', 'om', 'open', 'option', 'ori', 'ot', 'outbound', 'pass', 'pay', 'pda', 'peopl', 'perform', 'person', 'phone', 'piec', 'plan', 'pleas', 'point', 'polici', 'poor', 'possibl', 'probabl', 'problem', 'proper', 'provid', 'provis', 'purpos', 'rate', 'rater', 'realiz', 'realli', 'reason', 'receiv', 'recept', 'recption', 'reenter', 'refer', 'relat', 'rep', 'replac', 'respect', 'result', 'rid', 'right', 'ring', 'roam', 'roll', 'rubbish', 'rude', 'said', 'sale', 'say', 'screen', 'self', 'send', 'servic', 'shitti', 'shut', 'sign', 'signal', 'signific', 'simm', 'simpli', 'sinc', 'site', 'slow', 'sold', 'someon', 'sometim', 'soon', 'speak', 'speed', 'start', 'static', 'stole', 'store', 'stuff', 'stupid', 'substant', 'subtract', 'suck', 'suggest', 'supervisor', 'support', 'sure', 'surpris', 'suspect', 'suspend', 'switch', 'teach', 'technic', 'tell', 'terribl', 'test', 'text', 'think', 'thought', 'ticket', 'till', 'time', 'tire', 'today', 'toilet', 'told', 'tone', 'tower', 'transeff', 'transf', 'transfer', 'travel', 'tri', 'trust', 'turn', 'uncomfort', 'understand', 'unhappi', 'unlimit', 'unreli', 'unwil', 'upset', 'usag', 'use', 'useless', 'valu', 'veri', 'vm', 'wa', 'wait', 'want', 'wast', 'way', 'weak', 'web', 'websit', 'week', 'whi', 'wife', 'wish', 'wll', 'wold', 'work', 'wors', 'worst', 'wrong', 'xvyx', 'year', 'york']\n",
      "      0    1    2    3    4    5    6    7    8    9    ...  344  345  346  \\\n",
      "0       0    0    0    0    0    0    0    0    0    0  ...    0    0    0   \n",
      "1       0    0    0    0    1    0    0    0    0    0  ...    0    0    0   \n",
      "2       0    0    0    0    0    0    0    0    0    0  ...    0    0    0   \n",
      "3       0    0    0    0    0    0    0    0    0    0  ...    0    0    0   \n",
      "4       0    0    0    0    0    0    0    0    0    0  ...    0    0    0   \n",
      "...   ...  ...  ...  ...  ...  ...  ...  ...  ...  ...  ...  ...  ...  ...   \n",
      "2065    0    0    0    0    0    0    0    0    0    0  ...    0    0    0   \n",
      "2066    0    0    0    0    0    0    0    0    0    0  ...    0    0    0   \n",
      "2067    0    0    0    0    0    0    0    0    0    0  ...    0    0    0   \n",
      "2068    0    0    0    0    0    0    0    0    0    1  ...    0    0    0   \n",
      "2069    0    0    0    0    0    0    0    0    0    0  ...    0    0    0   \n",
      "\n",
      "      347  348  349  350  351  352  353  \n",
      "0       1    0    0    0    0    0    0  \n",
      "1       0    0    0    0    0    0    0  \n",
      "2       0    0    0    0    0    0    0  \n",
      "3       0    0    0    0    0    0    0  \n",
      "4       0    0    0    0    0    0    0  \n",
      "...   ...  ...  ...  ...  ...  ...  ...  \n",
      "2065    0    0    0    0    0    0    0  \n",
      "2066    0    0    0    0    0    0    0  \n",
      "2067    0    0    0    0    0    0    0  \n",
      "2068    0    0    0    0    0    0    0  \n",
      "2069    0    0    0    0    0    0    0  \n",
      "\n",
      "[2070 rows x 354 columns]\n"
     ]
    }
   ],
   "source": [
    "#Do Bag-Of-Words model - Term - Document Matrix\n",
    "#Learn the vocabulary dictionary and return term-document matrix.\n",
    "#count_vect = CountVectorizer(stop_words=None)\n",
    "count_vect = CountVectorizer(stop_words='english',lowercase=False)\n",
    "TD_counts = count_vect.fit_transform(newTextData.CommentsTokenizedStemmed)\n",
    "print(TD_counts.shape)\n",
    "print(TD_counts.dtype)\n",
    "print(count_vect.get_feature_names())\n",
    "#print(TD_counts)\n",
    "DF_TD_Counts=pd.DataFrame(TD_counts.toarray())\n",
    "print(DF_TD_Counts)\n",
    "export_csv = DF_TD_Counts.to_csv(r'TD_counts-TokenizedStemmed.csv')\n"
   ]
  },
  {
   "cell_type": "code",
   "execution_count": 9,
   "metadata": {
    "colab": {
     "base_uri": "https://localhost:8080/"
    },
    "executionInfo": {
     "elapsed": 1131,
     "status": "ok",
     "timestamp": 1639244724667,
     "user": {
      "displayName": "Sumit Jha",
      "photoUrl": "https://lh3.googleusercontent.com/a-/AOh14GhVOl8a8a3yiy_OIJS8QsQgJaquENW3b6sRwdfR=s64",
      "userId": "12043371557728758634"
     },
     "user_tz": 420
    },
    "id": "pd8TZYnAxQbP",
    "outputId": "c0903964-3207-4eb2-9f42-f903e95c0a91"
   },
   "outputs": [
    {
     "name": "stdout",
     "output_type": "stream",
     "text": [
      "(2070, 354)\n",
      "      0    1    2    3        4    5    6    7    8         9    ...  344  \\\n",
      "0     0.0  0.0  0.0  0.0  0.00000  0.0  0.0  0.0  0.0  0.000000  ...  0.0   \n",
      "1     0.0  0.0  0.0  0.0  0.27568  0.0  0.0  0.0  0.0  0.000000  ...  0.0   \n",
      "2     0.0  0.0  0.0  0.0  0.00000  0.0  0.0  0.0  0.0  0.000000  ...  0.0   \n",
      "3     0.0  0.0  0.0  0.0  0.00000  0.0  0.0  0.0  0.0  0.000000  ...  0.0   \n",
      "4     0.0  0.0  0.0  0.0  0.00000  0.0  0.0  0.0  0.0  0.000000  ...  0.0   \n",
      "...   ...  ...  ...  ...      ...  ...  ...  ...  ...       ...  ...  ...   \n",
      "2065  0.0  0.0  0.0  0.0  0.00000  0.0  0.0  0.0  0.0  0.000000  ...  0.0   \n",
      "2066  0.0  0.0  0.0  0.0  0.00000  0.0  0.0  0.0  0.0  0.000000  ...  0.0   \n",
      "2067  0.0  0.0  0.0  0.0  0.00000  0.0  0.0  0.0  0.0  0.000000  ...  0.0   \n",
      "2068  0.0  0.0  0.0  0.0  0.00000  0.0  0.0  0.0  0.0  0.772949  ...  0.0   \n",
      "2069  0.0  0.0  0.0  0.0  0.00000  0.0  0.0  0.0  0.0  0.000000  ...  0.0   \n",
      "\n",
      "      345  346       347  348  349  350  351  352  353  \n",
      "0     0.0  0.0  0.209678  0.0  0.0  0.0  0.0  0.0  0.0  \n",
      "1     0.0  0.0  0.000000  0.0  0.0  0.0  0.0  0.0  0.0  \n",
      "2     0.0  0.0  0.000000  0.0  0.0  0.0  0.0  0.0  0.0  \n",
      "3     0.0  0.0  0.000000  0.0  0.0  0.0  0.0  0.0  0.0  \n",
      "4     0.0  0.0  0.000000  0.0  0.0  0.0  0.0  0.0  0.0  \n",
      "...   ...  ...       ...  ...  ...  ...  ...  ...  ...  \n",
      "2065  0.0  0.0  0.000000  0.0  0.0  0.0  0.0  0.0  0.0  \n",
      "2066  0.0  0.0  0.000000  0.0  0.0  0.0  0.0  0.0  0.0  \n",
      "2067  0.0  0.0  0.000000  0.0  0.0  0.0  0.0  0.0  0.0  \n",
      "2068  0.0  0.0  0.000000  0.0  0.0  0.0  0.0  0.0  0.0  \n",
      "2069  0.0  0.0  0.000000  0.0  0.0  0.0  0.0  0.0  0.0  \n",
      "\n",
      "[2070 rows x 354 columns]\n"
     ]
    }
   ],
   "source": [
    "#Compute TF-IDF Matrix\n",
    "tfidf_transformer = TfidfTransformer()\n",
    "X_train_tfidf = tfidf_transformer.fit_transform(TD_counts)\n",
    "print(X_train_tfidf.shape)\n",
    "DF_TF_IDF=pd.DataFrame(X_train_tfidf.toarray())\n",
    "print(DF_TF_IDF)\n",
    "export_csv= DF_TF_IDF.to_csv(r'TFIDF_counts-TokenizedStemmed.csv')\n"
   ]
  },
  {
   "cell_type": "code",
   "execution_count": 10,
   "metadata": {
    "colab": {
     "base_uri": "https://localhost:8080/"
    },
    "executionInfo": {
     "elapsed": 458,
     "status": "ok",
     "timestamp": 1639244728972,
     "user": {
      "displayName": "Sumit Jha",
      "photoUrl": "https://lh3.googleusercontent.com/a-/AOh14GhVOl8a8a3yiy_OIJS8QsQgJaquENW3b6sRwdfR=s64",
      "userId": "12043371557728758634"
     },
     "user_tz": 420
    },
    "id": "m2owIUD6_eYO",
    "outputId": "55da8537-cfff-4544-cc35-57a44e221847"
   },
   "outputs": [
    {
     "name": "stdout",
     "output_type": "stream",
     "text": [
      "(2070, 50)\n",
      "[  0  14  35  49  50  51  62  64  70  72  81  99 109 115 118 121 130 145\n",
      " 157 158 172 186 190 205 212 213 217 221 222 234 235 239 244 248 249 254\n",
      " 259 264 266 273 307 312 313 315 319 325 328 338 342 350]\n",
      "       0    1    2         3         4    5    6    7    8    9   ...   40  \\\n",
      "0     0.0  0.0  0.0  0.000000  0.000000  0.0  0.0  0.0  0.0  0.0  ...  0.0   \n",
      "1     0.0  0.0  0.0  0.000000  0.000000  0.0  0.0  0.0  0.0  0.0  ...  0.0   \n",
      "2     0.0  0.0  0.0  0.000000  0.000000  0.0  0.0  0.0  0.0  0.0  ...  0.0   \n",
      "3     0.0  0.0  0.0  0.000000  0.000000  0.0  0.0  0.0  0.0  0.0  ...  0.0   \n",
      "4     0.0  0.0  0.0  0.000000  0.000000  0.0  0.0  0.0  0.0  0.0  ...  0.0   \n",
      "...   ...  ...  ...       ...       ...  ...  ...  ...  ...  ...  ...  ...   \n",
      "2065  0.0  0.0  0.0  0.000000  0.446161  0.0  0.0  0.0  0.0  0.0  ...  0.0   \n",
      "2066  0.0  0.0  0.0  0.000000  0.000000  0.0  0.0  0.0  0.0  0.0  ...  0.0   \n",
      "2067  0.0  0.0  0.0  0.000000  0.000000  0.0  0.0  0.0  0.0  0.0  ...  0.0   \n",
      "2068  0.0  0.0  0.0  0.545354  0.000000  0.0  0.0  0.0  0.0  0.0  ...  0.0   \n",
      "2069  0.0  0.0  0.0  0.000000  0.000000  0.0  0.0  0.0  0.0  0.0  ...  0.0   \n",
      "\n",
      "       41   42   43   44   45        46   47   48   49  \n",
      "0     0.0  0.0  0.0  0.0  0.0  0.000000  0.0  0.0  0.0  \n",
      "1     0.0  0.0  0.0  0.0  0.0  0.000000  0.0  0.0  0.0  \n",
      "2     0.0  0.0  0.0  0.0  0.0  0.000000  0.0  0.0  0.0  \n",
      "3     0.0  0.0  0.0  0.0  0.0  0.000000  0.0  0.0  0.0  \n",
      "4     0.0  0.0  0.0  0.0  0.0  0.348322  0.0  0.0  0.0  \n",
      "...   ...  ...  ...  ...  ...       ...  ...  ...  ...  \n",
      "2065  0.0  0.0  0.0  0.0  0.0  0.000000  0.0  0.0  0.0  \n",
      "2066  0.0  0.0  0.0  0.0  0.0  0.000000  0.0  0.0  0.0  \n",
      "2067  0.0  0.0  0.0  0.0  0.0  0.000000  0.0  0.0  0.0  \n",
      "2068  0.0  0.0  0.0  0.0  0.0  0.000000  0.0  0.0  0.0  \n",
      "2069  0.0  0.0  0.0  0.0  0.0  0.000000  0.0  0.0  0.0  \n",
      "\n",
      "[2070 rows x 50 columns]\n"
     ]
    }
   ],
   "source": [
    "#Filter Method - Feature selection\n",
    "#Suppose, we select 50 features with top 50 Fisher scores\n",
    "selector = SelectKBest(k=50)\n",
    "#selector = SelectKBest(score_func=chi2, k=50)\n",
    "\n",
    "#new_DF_TF_IDF = SelectKBest(score_func=chi2, k=50).fit_transform(DF_TF_IDF,y_train)\n",
    "new_DF_TF_IDF = selector.fit_transform(DF_TF_IDF,y_train)\n",
    "print(new_DF_TF_IDF.shape)\n",
    "\n",
    "feature_names_out = selector.get_support(indices=True)\n",
    "print(feature_names_out)\n",
    "\n",
    "DF_TF_IDF_SelectedFeatures= pd.DataFrame(new_DF_TF_IDF)\n",
    "print(DF_TF_IDF_SelectedFeatures)\n",
    "\n",
    "export_csv= DF_TF_IDF_SelectedFeatures.to_csv(r'TFIDF_counts-Selected Features.csv')\n",
    "\n"
   ]
  },
  {
   "cell_type": "code",
   "execution_count": 11,
   "metadata": {
    "colab": {
     "base_uri": "https://localhost:8080/"
    },
    "executionInfo": {
     "elapsed": 595,
     "status": "ok",
     "timestamp": 1639244735332,
     "user": {
      "displayName": "Sumit Jha",
      "photoUrl": "https://lh3.googleusercontent.com/a-/AOh14GhVOl8a8a3yiy_OIJS8QsQgJaquENW3b6sRwdfR=s64",
      "userId": "12043371557728758634"
     },
     "user_tz": 420
    },
    "id": "ap5hcz78hPXn",
    "outputId": "93b82c03-2919-4442-9f87-0ea723a8fe16"
   },
   "outputs": [
    {
     "name": "stdout",
     "output_type": "stream",
     "text": [
      "(2070, 17)\n",
      "(2070, 16)\n",
      "(2070, 66)\n",
      "        ID Sex Status  Children  Est_Income Car_Owner   Usage        Age  \\\n",
      "0        1   F      S         1    38000.00         N  229.64  24.393333   \n",
      "1        6   M      M         2    29616.00         N   75.29  49.426667   \n",
      "2        8   M      M         0    19732.80         N   47.25  50.673333   \n",
      "3       11   M      S         2       96.33         N   59.01  56.473333   \n",
      "4       14   F      M         2    52004.80         N   28.14  25.140000   \n",
      "...    ...  ..    ...       ...         ...       ...     ...        ...   \n",
      "2065  3821   F      S         0    78851.30         N   29.04  48.373333   \n",
      "2066  3822   F      S         1    17540.70         Y   36.20  62.786667   \n",
      "2067  3823   F      M         0    83891.90         Y   74.40  61.020000   \n",
      "2068  3824   F      M         2    28220.80         N   38.95  38.766667   \n",
      "2069  3825   F      S         0    28589.10         N  100.28  15.600000   \n",
      "\n",
      "      RatePlan  LongDistance  ...   40   41   42   43   44   45        46  \\\n",
      "0            3         23.56  ...  0.0  0.0  0.0  0.0  0.0  0.0  0.000000   \n",
      "1            2         29.78  ...  0.0  0.0  0.0  0.0  0.0  0.0  0.000000   \n",
      "2            3         24.81  ...  0.0  0.0  0.0  0.0  0.0  0.0  0.000000   \n",
      "3            1         26.13  ...  0.0  0.0  0.0  0.0  0.0  0.0  0.000000   \n",
      "4            1          5.03  ...  0.0  0.0  0.0  0.0  0.0  0.0  0.348322   \n",
      "...        ...           ...  ...  ...  ...  ...  ...  ...  ...       ...   \n",
      "2065         4          0.37  ...  0.0  0.0  0.0  0.0  0.0  0.0  0.000000   \n",
      "2066         1         22.17  ...  0.0  0.0  0.0  0.0  0.0  0.0  0.000000   \n",
      "2067         4         28.92  ...  0.0  0.0  0.0  0.0  0.0  0.0  0.000000   \n",
      "2068         4         26.49  ...  0.0  0.0  0.0  0.0  0.0  0.0  0.000000   \n",
      "2069         3         13.19  ...  0.0  0.0  0.0  0.0  0.0  0.0  0.000000   \n",
      "\n",
      "       47   48   49  \n",
      "0     0.0  0.0  0.0  \n",
      "1     0.0  0.0  0.0  \n",
      "2     0.0  0.0  0.0  \n",
      "3     0.0  0.0  0.0  \n",
      "4     0.0  0.0  0.0  \n",
      "...   ...  ...  ...  \n",
      "2065  0.0  0.0  0.0  \n",
      "2066  0.0  0.0  0.0  \n",
      "2067  0.0  0.0  0.0  \n",
      "2068  0.0  0.0  0.0  \n",
      "2069  0.0  0.0  0.0  \n",
      "\n",
      "[2070 rows x 66 columns]\n"
     ]
    }
   ],
   "source": [
    "#Combine text data with Customer Data\n",
    "print(CustInfoData.shape)\n",
    "X_train = CustInfoData.drop(columns=[\"TARGET\"]) #extracting training data without the target column\n",
    "print(X_train.shape)\n",
    "combined=pd.concat([X_train, DF_TF_IDF_SelectedFeatures], axis=1)\n",
    "print(combined.shape)\n",
    "print(combined)\n",
    "export_csv= combined.to_csv(r'Combined-Cust+TFIDF+SelectedFeatures.csv')\n"
   ]
  },
  {
   "cell_type": "code",
   "execution_count": 12,
   "metadata": {
    "colab": {
     "base_uri": "https://localhost:8080/"
    },
    "executionInfo": {
     "elapsed": 449,
     "status": "ok",
     "timestamp": 1639244752635,
     "user": {
      "displayName": "Sumit Jha",
      "photoUrl": "https://lh3.googleusercontent.com/a-/AOh14GhVOl8a8a3yiy_OIJS8QsQgJaquENW3b6sRwdfR=s64",
      "userId": "12043371557728758634"
     },
     "user_tz": 420
    },
    "id": "g_lMPsYXjhwN",
    "outputId": "502a0d87-5eee-4755-d049-91279b49c543"
   },
   "outputs": [
    {
     "name": "stdout",
     "output_type": "stream",
     "text": [
      "['Sex', 'Status', 'Car_Owner', 'Paymethod', 'LocalBilltype', 'LongDistanceBilltype']\n",
      "(2070, 74)\n"
     ]
    }
   ],
   "source": [
    "#Do one Hot encoding for categorical features\n",
    "X_cat = [\"Sex\",\"Status\",\"Car_Owner\",\"Paymethod\",\"LocalBilltype\",\"LongDistanceBilltype\"]\n",
    "#X_cat = combined.select_dtypes(exclude=['int','float64'])\n",
    "print(X_cat)\n",
    "combined_one_hot = pd.get_dummies(combined,columns=X_cat)\n",
    "print(combined_one_hot.shape)\n",
    "export_csv= combined_one_hot.to_csv(r'combined_one_hot.csv')"
   ]
  },
  {
   "cell_type": "code",
   "execution_count": 13,
   "metadata": {
    "executionInfo": {
     "elapsed": 134,
     "status": "ok",
     "timestamp": 1639244755801,
     "user": {
      "displayName": "Sumit Jha",
      "photoUrl": "https://lh3.googleusercontent.com/a-/AOh14GhVOl8a8a3yiy_OIJS8QsQgJaquENW3b6sRwdfR=s64",
      "userId": "12043371557728758634"
     },
     "user_tz": 420
    },
    "id": "5QenAEbvjjln"
   },
   "outputs": [],
   "source": [
    "# Split the combined data\n",
    "X_train1, X_test1, y_train1, y_test1 = train_test_split(combined_one_hot, y_train, test_size = .20, \n",
    "                                                    stratify=y_train,random_state = 1)"
   ]
  },
  {
   "cell_type": "code",
   "execution_count": 14,
   "metadata": {
    "colab": {
     "base_uri": "https://localhost:8080/"
    },
    "executionInfo": {
     "elapsed": 456,
     "status": "ok",
     "timestamp": 1639244790617,
     "user": {
      "displayName": "Sumit Jha",
      "photoUrl": "https://lh3.googleusercontent.com/a-/AOh14GhVOl8a8a3yiy_OIJS8QsQgJaquENW3b6sRwdfR=s64",
      "userId": "12043371557728758634"
     },
     "user_tz": 420
    },
    "id": "2PzCe7ejkl77",
    "outputId": "a24a5891-3a09-4524-ce75-78d5c9c5a6b0"
   },
   "outputs": [
    {
     "name": "stdout",
     "output_type": "stream",
     "text": [
      "Test Accuracy: 0.8792270531400966\n",
      "Confusion Matrix:\n",
      "[[131  30]\n",
      " [ 20 233]]\n",
      "Classification Report\n",
      "              precision    recall  f1-score   support\n",
      "\n",
      "   Cancelled       0.87      0.81      0.84       161\n",
      "     Current       0.89      0.92      0.90       253\n",
      "\n",
      "    accuracy                           0.88       414\n",
      "   macro avg       0.88      0.87      0.87       414\n",
      "weighted avg       0.88      0.88      0.88       414\n",
      "\n"
     ]
    }
   ],
   "source": [
    "#Construct a Random Forest Classifier on combined data and test accuracy\n",
    "clf=RandomForestClassifier()\n",
    "RF_Comb = clf.fit(X_train1,y_train1)\n",
    "rf_predictions = clf.predict(X_test1)\n",
    "print(\"Test Accuracy:\", metrics.accuracy_score(y_test1,rf_predictions))\n",
    "#print(\"Accuracy score (training): {0:.6f}\".format(clf.score(X_test1, y_test1)))\n",
    "print(\"Confusion Matrix:\")\n",
    "print(confusion_matrix(y_test1, rf_predictions))\n",
    "print(\"Classification Report\")\n",
    "print(classification_report(y_test1, rf_predictions))\n"
   ]
  },
  {
   "cell_type": "code",
   "execution_count": 15,
   "metadata": {
    "colab": {
     "base_uri": "https://localhost:8080/"
    },
    "executionInfo": {
     "elapsed": 7318,
     "status": "ok",
     "timestamp": 1639244947672,
     "user": {
      "displayName": "Sumit Jha",
      "photoUrl": "https://lh3.googleusercontent.com/a-/AOh14GhVOl8a8a3yiy_OIJS8QsQgJaquENW3b6sRwdfR=s64",
      "userId": "12043371557728758634"
     },
     "user_tz": 420
    },
    "id": "pQWZAk-LlugX",
    "outputId": "25faaa68-1a0d-4cc9-af64-2b635a161dc0"
   },
   "outputs": [
    {
     "name": "stdout",
     "output_type": "stream",
     "text": [
      "=== All Accuracy Scores ===\n",
      "[0.83584979 0.8554007  0.84630275 0.91153697 0.8625     0.909375\n",
      " 0.821875   0.8234375  0.8703125  0.8890625  0.90119048 0.89325397\n",
      " 0.94206349 0.8047619  0.90575397 0.83075397 0.89325397 0.95912698\n",
      " 0.87738095 0.91488095]\n",
      "\n",
      "\n",
      "=== Mean Accuracy Score ===\n",
      "Mean Accuracy Score - ON Text:  0.8774036670054199\n",
      "\n",
      "\n"
     ]
    }
   ],
   "source": [
    "#run cross-validation - COMBINED Data\n",
    "rf_Comb_cv_score = cross_val_score(RF_Comb, combined_one_hot, y_train, cv=20, scoring=\"balanced_accuracy\")\n",
    "print(\"=== All Accuracy Scores ===\")\n",
    "print(rf_Comb_cv_score)\n",
    "print('\\n')\n",
    "print(\"=== Mean Accuracy Score ===\")\n",
    "print(\"Mean Accuracy Score - ON Text: \",rf_Comb_cv_score.mean())\n",
    "print('\\n')"
   ]
  },
  {
   "cell_type": "code",
   "execution_count": 16,
   "metadata": {
    "colab": {
     "base_uri": "https://localhost:8080/"
    },
    "executionInfo": {
     "elapsed": 988,
     "status": "ok",
     "timestamp": 1639247758440,
     "user": {
      "displayName": "Sumit Jha",
      "photoUrl": "https://lh3.googleusercontent.com/a-/AOh14GhVOl8a8a3yiy_OIJS8QsQgJaquENW3b6sRwdfR=s64",
      "userId": "12043371557728758634"
     },
     "user_tz": 420
    },
    "id": "pMRy9ZQDnqux",
    "outputId": "0a44cc63-2220-42b2-f2fb-733eaf3920b4"
   },
   "outputs": [
    {
     "name": "stdout",
     "output_type": "stream",
     "text": [
      "[0.00000000e+00 0.00000000e+00 0.00000000e+00 0.00000000e+00\n",
      " 0.00000000e+00 0.00000000e+00 0.00000000e+00 0.00000000e+00\n",
      " 0.00000000e+00 6.67729452e-03 0.00000000e+00 7.92863179e-03\n",
      " 0.00000000e+00 0.00000000e+00 8.24927549e-02 0.00000000e+00\n",
      " 3.72720690e-06 0.00000000e+00 0.00000000e+00 0.00000000e+00\n",
      " 0.00000000e+00 6.16302064e-04 7.18165438e-03 9.95659538e-04\n",
      " 0.00000000e+00 0.00000000e+00 1.50452100e-02 5.72930456e-06\n",
      " 0.00000000e+00 0.00000000e+00 4.16022321e-03 0.00000000e+00\n",
      " 0.00000000e+00 0.00000000e+00 0.00000000e+00 0.00000000e+00\n",
      " 0.00000000e+00 0.00000000e+00 0.00000000e+00 0.00000000e+00\n",
      " 0.00000000e+00 0.00000000e+00 0.00000000e+00 0.00000000e+00\n",
      " 0.00000000e+00 0.00000000e+00 0.00000000e+00 5.54193740e-03\n",
      " 0.00000000e+00 2.17324479e-02 1.17299506e-02 0.00000000e+00\n",
      " 0.00000000e+00 0.00000000e+00 0.00000000e+00 4.50019222e-04\n",
      " 0.00000000e+00 0.00000000e+00 0.00000000e+00 0.00000000e+00\n",
      " 0.00000000e+00 0.00000000e+00 2.59113356e-04 0.00000000e+00\n",
      " 0.00000000e+00 0.00000000e+00 0.00000000e+00 0.00000000e+00\n",
      " 0.00000000e+00 0.00000000e+00 4.16317724e-02 0.00000000e+00\n",
      " 2.54549037e-03 0.00000000e+00 0.00000000e+00 0.00000000e+00\n",
      " 0.00000000e+00 0.00000000e+00 0.00000000e+00 0.00000000e+00\n",
      " 0.00000000e+00 0.00000000e+00 0.00000000e+00 1.45638332e-03\n",
      " 0.00000000e+00 0.00000000e+00 0.00000000e+00 0.00000000e+00\n",
      " 0.00000000e+00 0.00000000e+00 0.00000000e+00 7.58156254e-04\n",
      " 1.04476626e-06 0.00000000e+00 0.00000000e+00 0.00000000e+00\n",
      " 0.00000000e+00 0.00000000e+00 4.06114954e-03 0.00000000e+00\n",
      " 0.00000000e+00 0.00000000e+00 0.00000000e+00 0.00000000e+00\n",
      " 0.00000000e+00 0.00000000e+00 0.00000000e+00 0.00000000e+00\n",
      " 0.00000000e+00 0.00000000e+00 0.00000000e+00 0.00000000e+00\n",
      " 0.00000000e+00 6.06590397e-03 0.00000000e+00 7.59366110e-05\n",
      " 0.00000000e+00 0.00000000e+00 3.53638604e-02 0.00000000e+00\n",
      " 0.00000000e+00 2.79143037e-03 0.00000000e+00 0.00000000e+00\n",
      " 0.00000000e+00 1.21189002e-02 0.00000000e+00 0.00000000e+00\n",
      " 0.00000000e+00 0.00000000e+00 0.00000000e+00 2.10286524e-03\n",
      " 0.00000000e+00 0.00000000e+00 0.00000000e+00 5.56534879e-03\n",
      " 0.00000000e+00 0.00000000e+00 0.00000000e+00 0.00000000e+00\n",
      " 0.00000000e+00 5.60625040e-02 0.00000000e+00 0.00000000e+00\n",
      " 1.64424496e-02 0.00000000e+00 0.00000000e+00 0.00000000e+00\n",
      " 0.00000000e+00 0.00000000e+00 0.00000000e+00 0.00000000e+00\n",
      " 0.00000000e+00 0.00000000e+00 0.00000000e+00 8.04332093e-03\n",
      " 0.00000000e+00 4.59852369e-03 0.00000000e+00 0.00000000e+00\n",
      " 0.00000000e+00 4.75084406e-04 0.00000000e+00 0.00000000e+00\n",
      " 1.63900333e-02 0.00000000e+00 0.00000000e+00 0.00000000e+00\n",
      " 0.00000000e+00 0.00000000e+00 7.40299577e-03 1.15861516e-02\n",
      " 0.00000000e+00 0.00000000e+00 0.00000000e+00 0.00000000e+00\n",
      " 0.00000000e+00 0.00000000e+00 0.00000000e+00 0.00000000e+00\n",
      " 0.00000000e+00 0.00000000e+00 7.61199359e-04 8.45473309e-03\n",
      " 0.00000000e+00 0.00000000e+00 0.00000000e+00 0.00000000e+00\n",
      " 0.00000000e+00 0.00000000e+00 0.00000000e+00 0.00000000e+00\n",
      " 0.00000000e+00 0.00000000e+00 0.00000000e+00 0.00000000e+00\n",
      " 0.00000000e+00 0.00000000e+00 0.00000000e+00 1.60149309e-04\n",
      " 0.00000000e+00 1.68797902e-03 0.00000000e+00 0.00000000e+00\n",
      " 0.00000000e+00 0.00000000e+00 0.00000000e+00 0.00000000e+00\n",
      " 0.00000000e+00 0.00000000e+00 0.00000000e+00 0.00000000e+00\n",
      " 9.53432254e-05 0.00000000e+00 0.00000000e+00 8.78679549e-03\n",
      " 0.00000000e+00 0.00000000e+00 0.00000000e+00 0.00000000e+00\n",
      " 1.44072940e-02 0.00000000e+00 0.00000000e+00 0.00000000e+00\n",
      " 0.00000000e+00 0.00000000e+00 0.00000000e+00 0.00000000e+00\n",
      " 0.00000000e+00 2.56059347e-02 0.00000000e+00 0.00000000e+00\n",
      " 0.00000000e+00 0.00000000e+00 0.00000000e+00 0.00000000e+00\n",
      " 0.00000000e+00 8.55526010e-02 0.00000000e+00 1.00299300e-01\n",
      " 3.29168358e-03 0.00000000e+00 0.00000000e+00 0.00000000e+00\n",
      " 1.84643598e-04 0.00000000e+00 1.45782478e-05 0.00000000e+00\n",
      " 3.42279153e-05 0.00000000e+00 0.00000000e+00 0.00000000e+00\n",
      " 2.49367928e-03 0.00000000e+00 0.00000000e+00 0.00000000e+00\n",
      " 4.13646935e-02 0.00000000e+00 6.43436271e-03 1.79354786e-02\n",
      " 0.00000000e+00 0.00000000e+00 2.06813548e-02 0.00000000e+00\n",
      " 0.00000000e+00 0.00000000e+00 0.00000000e+00 2.59431686e-03\n",
      " 0.00000000e+00 0.00000000e+00 0.00000000e+00 0.00000000e+00\n",
      " 0.00000000e+00 0.00000000e+00 0.00000000e+00 0.00000000e+00\n",
      " 0.00000000e+00 0.00000000e+00 0.00000000e+00 0.00000000e+00\n",
      " 0.00000000e+00 0.00000000e+00 0.00000000e+00 0.00000000e+00\n",
      " 0.00000000e+00 0.00000000e+00 0.00000000e+00 0.00000000e+00\n",
      " 4.67043252e-06 0.00000000e+00 6.13225460e-03 0.00000000e+00\n",
      " 0.00000000e+00 0.00000000e+00 0.00000000e+00 1.31103976e-02\n",
      " 0.00000000e+00 0.00000000e+00 0.00000000e+00 2.15948640e-04\n",
      " 0.00000000e+00 0.00000000e+00 0.00000000e+00 3.49016583e-04\n",
      " 0.00000000e+00 0.00000000e+00 0.00000000e+00 0.00000000e+00\n",
      " 0.00000000e+00 0.00000000e+00 0.00000000e+00 0.00000000e+00\n",
      " 0.00000000e+00 4.16291425e-02 0.00000000e+00 0.00000000e+00\n",
      " 0.00000000e+00 0.00000000e+00 0.00000000e+00 0.00000000e+00\n",
      " 0.00000000e+00 2.41769092e-03 6.41212360e-03 1.66754097e-02\n",
      " 0.00000000e+00 0.00000000e+00 0.00000000e+00 0.00000000e+00\n",
      " 2.55547158e-02 0.00000000e+00 0.00000000e+00 0.00000000e+00\n",
      " 0.00000000e+00 0.00000000e+00 0.00000000e+00 4.16436365e-03\n",
      " 0.00000000e+00 2.62710392e-03 0.00000000e+00 0.00000000e+00\n",
      " 0.00000000e+00 7.92050984e-03 1.24593092e-01 0.00000000e+00\n",
      " 0.00000000e+00 0.00000000e+00 0.00000000e+00 1.62685971e-03\n",
      " 0.00000000e+00 0.00000000e+00 3.11324695e-03 0.00000000e+00\n",
      " 2.25314461e-03 0.00000000e+00]\n"
     ]
    },
    {
     "ename": "FileNotFoundError",
     "evalue": "[Errno 2] No such file or directory: '/gdrive/My Drive/CIS508/Assignment_5/X_new_SelectedFeatures.csv'",
     "output_type": "error",
     "traceback": [
      "\u001b[0;31m---------------------------------------------------------------------------\u001b[0m",
      "\u001b[0;31mFileNotFoundError\u001b[0m                         Traceback (most recent call last)",
      "\u001b[0;32m<ipython-input-16-aac30b32e648>\u001b[0m in \u001b[0;36m<module>\u001b[0;34m\u001b[0m\n\u001b[1;32m     10\u001b[0m \u001b[0mX_new\u001b[0m \u001b[0;34m=\u001b[0m \u001b[0mmodel\u001b[0m\u001b[0;34m.\u001b[0m\u001b[0mtransform\u001b[0m\u001b[0;34m(\u001b[0m\u001b[0mDF_TF_IDF\u001b[0m\u001b[0;34m)\u001b[0m\u001b[0;34m\u001b[0m\u001b[0;34m\u001b[0m\u001b[0m\n\u001b[1;32m     11\u001b[0m \u001b[0mX_new_SelectedFeatures\u001b[0m\u001b[0;34m=\u001b[0m \u001b[0mpd\u001b[0m\u001b[0;34m.\u001b[0m\u001b[0mDataFrame\u001b[0m\u001b[0;34m(\u001b[0m\u001b[0mX_new\u001b[0m\u001b[0;34m)\u001b[0m\u001b[0;34m\u001b[0m\u001b[0;34m\u001b[0m\u001b[0m\n\u001b[0;32m---> 12\u001b[0;31m \u001b[0mexport_csv\u001b[0m\u001b[0;34m=\u001b[0m \u001b[0mX_new_SelectedFeatures\u001b[0m\u001b[0;34m.\u001b[0m\u001b[0mto_csv\u001b[0m\u001b[0;34m(\u001b[0m\u001b[0;34mr'/gdrive/My Drive/CIS508/Assignment_5/X_new_SelectedFeatures.csv'\u001b[0m\u001b[0;34m)\u001b[0m\u001b[0;34m\u001b[0m\u001b[0;34m\u001b[0m\u001b[0m\n\u001b[0m\u001b[1;32m     13\u001b[0m \u001b[0;34m\u001b[0m\u001b[0m\n\u001b[1;32m     14\u001b[0m \u001b[0mprint\u001b[0m\u001b[0;34m(\u001b[0m\u001b[0mmodel\u001b[0m\u001b[0;34m.\u001b[0m\u001b[0mget_support\u001b[0m\u001b[0;34m(\u001b[0m\u001b[0;34m)\u001b[0m\u001b[0;34m)\u001b[0m\u001b[0;34m\u001b[0m\u001b[0;34m\u001b[0m\u001b[0m\n",
      "\u001b[0;32m~/opt/anaconda3/lib/python3.8/site-packages/pandas/core/generic.py\u001b[0m in \u001b[0;36mto_csv\u001b[0;34m(self, path_or_buf, sep, na_rep, float_format, columns, header, index, index_label, mode, encoding, compression, quoting, quotechar, line_terminator, chunksize, date_format, doublequote, escapechar, decimal, errors, storage_options)\u001b[0m\n\u001b[1;32m   3385\u001b[0m         )\n\u001b[1;32m   3386\u001b[0m \u001b[0;34m\u001b[0m\u001b[0m\n\u001b[0;32m-> 3387\u001b[0;31m         return DataFrameRenderer(formatter).to_csv(\n\u001b[0m\u001b[1;32m   3388\u001b[0m             \u001b[0mpath_or_buf\u001b[0m\u001b[0;34m,\u001b[0m\u001b[0;34m\u001b[0m\u001b[0;34m\u001b[0m\u001b[0m\n\u001b[1;32m   3389\u001b[0m             \u001b[0mline_terminator\u001b[0m\u001b[0;34m=\u001b[0m\u001b[0mline_terminator\u001b[0m\u001b[0;34m,\u001b[0m\u001b[0;34m\u001b[0m\u001b[0;34m\u001b[0m\u001b[0m\n",
      "\u001b[0;32m~/opt/anaconda3/lib/python3.8/site-packages/pandas/io/formats/format.py\u001b[0m in \u001b[0;36mto_csv\u001b[0;34m(self, path_or_buf, encoding, sep, columns, index_label, mode, compression, quoting, quotechar, line_terminator, chunksize, date_format, doublequote, escapechar, errors, storage_options)\u001b[0m\n\u001b[1;32m   1081\u001b[0m             \u001b[0mformatter\u001b[0m\u001b[0;34m=\u001b[0m\u001b[0mself\u001b[0m\u001b[0;34m.\u001b[0m\u001b[0mfmt\u001b[0m\u001b[0;34m,\u001b[0m\u001b[0;34m\u001b[0m\u001b[0;34m\u001b[0m\u001b[0m\n\u001b[1;32m   1082\u001b[0m         )\n\u001b[0;32m-> 1083\u001b[0;31m         \u001b[0mcsv_formatter\u001b[0m\u001b[0;34m.\u001b[0m\u001b[0msave\u001b[0m\u001b[0;34m(\u001b[0m\u001b[0;34m)\u001b[0m\u001b[0;34m\u001b[0m\u001b[0;34m\u001b[0m\u001b[0m\n\u001b[0m\u001b[1;32m   1084\u001b[0m \u001b[0;34m\u001b[0m\u001b[0m\n\u001b[1;32m   1085\u001b[0m         \u001b[0;32mif\u001b[0m \u001b[0mcreated_buffer\u001b[0m\u001b[0;34m:\u001b[0m\u001b[0;34m\u001b[0m\u001b[0;34m\u001b[0m\u001b[0m\n",
      "\u001b[0;32m~/opt/anaconda3/lib/python3.8/site-packages/pandas/io/formats/csvs.py\u001b[0m in \u001b[0;36msave\u001b[0;34m(self)\u001b[0m\n\u001b[1;32m    226\u001b[0m         \"\"\"\n\u001b[1;32m    227\u001b[0m         \u001b[0;31m# apply compression and byte/text conversion\u001b[0m\u001b[0;34m\u001b[0m\u001b[0;34m\u001b[0m\u001b[0;34m\u001b[0m\u001b[0m\n\u001b[0;32m--> 228\u001b[0;31m         with get_handle(\n\u001b[0m\u001b[1;32m    229\u001b[0m             \u001b[0mself\u001b[0m\u001b[0;34m.\u001b[0m\u001b[0mfilepath_or_buffer\u001b[0m\u001b[0;34m,\u001b[0m\u001b[0;34m\u001b[0m\u001b[0;34m\u001b[0m\u001b[0m\n\u001b[1;32m    230\u001b[0m             \u001b[0mself\u001b[0m\u001b[0;34m.\u001b[0m\u001b[0mmode\u001b[0m\u001b[0;34m,\u001b[0m\u001b[0;34m\u001b[0m\u001b[0;34m\u001b[0m\u001b[0m\n",
      "\u001b[0;32m~/opt/anaconda3/lib/python3.8/site-packages/pandas/io/common.py\u001b[0m in \u001b[0;36mget_handle\u001b[0;34m(path_or_buf, mode, encoding, compression, memory_map, is_text, errors, storage_options)\u001b[0m\n\u001b[1;32m    640\u001b[0m                 \u001b[0merrors\u001b[0m \u001b[0;34m=\u001b[0m \u001b[0;34m\"replace\"\u001b[0m\u001b[0;34m\u001b[0m\u001b[0;34m\u001b[0m\u001b[0m\n\u001b[1;32m    641\u001b[0m             \u001b[0;31m# Encoding\u001b[0m\u001b[0;34m\u001b[0m\u001b[0;34m\u001b[0m\u001b[0;34m\u001b[0m\u001b[0m\n\u001b[0;32m--> 642\u001b[0;31m             handle = open(\n\u001b[0m\u001b[1;32m    643\u001b[0m                 \u001b[0mhandle\u001b[0m\u001b[0;34m,\u001b[0m\u001b[0;34m\u001b[0m\u001b[0;34m\u001b[0m\u001b[0m\n\u001b[1;32m    644\u001b[0m                 \u001b[0mioargs\u001b[0m\u001b[0;34m.\u001b[0m\u001b[0mmode\u001b[0m\u001b[0;34m,\u001b[0m\u001b[0;34m\u001b[0m\u001b[0;34m\u001b[0m\u001b[0m\n",
      "\u001b[0;31mFileNotFoundError\u001b[0m: [Errno 2] No such file or directory: '/gdrive/My Drive/CIS508/Assignment_5/X_new_SelectedFeatures.csv'"
     ]
    }
   ],
   "source": [
    "#Wrapper method -Do feature selection using a classification model\n",
    "#clf = ExtraTreesClassifier(n_estimators=50)\n",
    "clf = GradientBoostingClassifier(n_estimators=50)\n",
    "#clf = DecisionTreeClassifier()\n",
    "clf = clf.fit(DF_TF_IDF,y_train)\n",
    "print(clf.feature_importances_)\n",
    "#model = SelectFromModel(clf, prefit=True)\n",
    "model = SelectFromModel(clf, prefit=True, max_features=7, threshold=-np.inf)\n",
    "#model = SelectFromModel(clf, prefit=True)\n",
    "X_new = model.transform(DF_TF_IDF)\n",
    "X_new_SelectedFeatures= pd.DataFrame(X_new)\n",
    "export_csv= X_new_SelectedFeatures.to_csv(r'X_new_SelectedFeatures.csv')\n",
    "\n",
    "print(model.get_support())\n",
    "print(X_new_SelectedFeatures)\n",
    "#print(X_new_SelectedFeatures.shape)\n",
    "#print(X_new_SelectedFeatures.head())\n"
   ]
  },
  {
   "cell_type": "code",
   "execution_count": 17,
   "metadata": {
    "colab": {
     "base_uri": "https://localhost:8080/"
    },
    "executionInfo": {
     "elapsed": 136,
     "status": "ok",
     "timestamp": 1639248121692,
     "user": {
      "displayName": "Sumit Jha",
      "photoUrl": "https://lh3.googleusercontent.com/a-/AOh14GhVOl8a8a3yiy_OIJS8QsQgJaquENW3b6sRwdfR=s64",
      "userId": "12043371557728758634"
     },
     "user_tz": 420
    },
    "id": "R41JukfZyqGm",
    "outputId": "02412feb-fb9f-4d19-c448-936a263097f2"
   },
   "outputs": [
    {
     "name": "stdout",
     "output_type": "stream",
     "text": [
      "(2070, 17)\n",
      "(2070, 16)\n",
      "(2070, 23)\n",
      "        ID Sex Status  Children  Est_Income Car_Owner   Usage        Age  \\\n",
      "0        1   F      S         1    38000.00         N  229.64  24.393333   \n",
      "1        6   M      M         2    29616.00         N   75.29  49.426667   \n",
      "2        8   M      M         0    19732.80         N   47.25  50.673333   \n",
      "3       11   M      S         2       96.33         N   59.01  56.473333   \n",
      "4       14   F      M         2    52004.80         N   28.14  25.140000   \n",
      "...    ...  ..    ...       ...         ...       ...     ...        ...   \n",
      "2065  3821   F      S         0    78851.30         N   29.04  48.373333   \n",
      "2066  3822   F      S         1    17540.70         Y   36.20  62.786667   \n",
      "2067  3823   F      M         0    83891.90         Y   74.40  61.020000   \n",
      "2068  3824   F      M         2    28220.80         N   38.95  38.766667   \n",
      "2069  3825   F      S         0    28589.10         N  100.28  15.600000   \n",
      "\n",
      "      RatePlan  LongDistance  ...  Paymethod  LocalBilltype  \\\n",
      "0            3         23.56  ...         CC         Budget   \n",
      "1            2         29.78  ...         CH      FreeLocal   \n",
      "2            3         24.81  ...         CC      FreeLocal   \n",
      "3            1         26.13  ...         CC         Budget   \n",
      "4            1          5.03  ...         CH         Budget   \n",
      "...        ...           ...  ...        ...            ...   \n",
      "2065         4          0.37  ...         CC      FreeLocal   \n",
      "2066         1         22.17  ...       Auto         Budget   \n",
      "2067         4         28.92  ...         CH         Budget   \n",
      "2068         4         26.49  ...         CC      FreeLocal   \n",
      "2069         3         13.19  ...         CC      FreeLocal   \n",
      "\n",
      "      LongDistanceBilltype    0    1         2    3    4    5    6  \n",
      "0           Intnl_discount  0.0  0.0  0.000000  0.0  0.0  0.0  0.0  \n",
      "1                 Standard  0.0  0.0  0.000000  0.0  0.0  0.0  0.0  \n",
      "2                 Standard  0.0  0.0  0.000000  0.0  0.0  0.0  0.0  \n",
      "3                 Standard  0.0  0.0  0.000000  0.0  0.0  0.0  0.0  \n",
      "4           Intnl_discount  0.0  0.0  0.320855  0.0  0.0  0.0  0.0  \n",
      "...                    ...  ...  ...       ...  ...  ...  ...  ...  \n",
      "2065              Standard  0.0  0.0  0.324168  0.0  0.0  0.0  0.0  \n",
      "2066              Standard  0.0  0.0  0.000000  0.0  0.0  0.0  0.0  \n",
      "2067              Standard  0.0  0.0  0.000000  0.0  0.0  0.0  0.0  \n",
      "2068              Standard  0.0  0.0  0.000000  0.0  0.0  0.0  0.0  \n",
      "2069              Standard  0.0  0.0  0.000000  0.0  0.0  0.0  0.0  \n",
      "\n",
      "[2070 rows x 23 columns]\n"
     ]
    }
   ],
   "source": [
    "#Combine new seelcted feature with Customer Data\n",
    "print(CustInfoData.shape)\n",
    "X_train = CustInfoData.drop(columns=[\"TARGET\"]) #extracting training data without the target column\n",
    "print(X_train.shape)\n",
    "##combined=X_train.merge(DF_TF_IDF_SelectedFeatures, left_on='ID', right_on='ID')\n",
    "#combined=pd.merge(X_train, DF_TF_IDF_SelectedFeatures, how='left', on=['ID', 'ID'])\n",
    "#combined = pd.merge(X_train, DF_TF_IDF_SelectedFeatures, how='left',on = 'ID')\n",
    "#combined=pd.merge(X_train, DF_TF_IDF_SelectedFeatures, join ='inner', on='ID')\n",
    "\n",
    "combined_1=pd.concat([X_train, X_new_SelectedFeatures], axis=1)\n",
    "print(combined_1.shape)\n",
    "print(combined_1)\n",
    "#export_csv= combined.to_csv(r'/gdrive/My Drive/CIS508/Assignment_5/Combined-Cust+TFIDF+SelectedFeatures.csv')"
   ]
  },
  {
   "cell_type": "code",
   "execution_count": 18,
   "metadata": {
    "colab": {
     "base_uri": "https://localhost:8080/"
    },
    "executionInfo": {
     "elapsed": 133,
     "status": "ok",
     "timestamp": 1639248622350,
     "user": {
      "displayName": "Sumit Jha",
      "photoUrl": "https://lh3.googleusercontent.com/a-/AOh14GhVOl8a8a3yiy_OIJS8QsQgJaquENW3b6sRwdfR=s64",
      "userId": "12043371557728758634"
     },
     "user_tz": 420
    },
    "id": "K630XrUL0Zxn",
    "outputId": "c26d83be-5fbe-4686-bec9-318f0cb1c149"
   },
   "outputs": [
    {
     "name": "stdout",
     "output_type": "stream",
     "text": [
      "['Sex', 'Status', 'Car_Owner', 'Paymethod', 'LocalBilltype', 'LongDistanceBilltype']\n",
      "(2070, 74)\n"
     ]
    }
   ],
   "source": [
    "#Do one Hot encoding for categorical features\n",
    "X_cat = [\"Sex\",\"Status\",\"Car_Owner\",\"Paymethod\",\"LocalBilltype\",\"LongDistanceBilltype\"]\n",
    "#X_cat = combined.select_dtypes(exclude=['int','float64'])\n",
    "print(X_cat)\n",
    "combined_one_hot_1 = pd.get_dummies(combined_1,columns=X_cat)\n",
    "print(combined_one_hot.shape)"
   ]
  },
  {
   "cell_type": "code",
   "execution_count": 19,
   "metadata": {
    "executionInfo": {
     "elapsed": 139,
     "status": "ok",
     "timestamp": 1639248624511,
     "user": {
      "displayName": "Sumit Jha",
      "photoUrl": "https://lh3.googleusercontent.com/a-/AOh14GhVOl8a8a3yiy_OIJS8QsQgJaquENW3b6sRwdfR=s64",
      "userId": "12043371557728758634"
     },
     "user_tz": 420
    },
    "id": "7PuU2vFTzmsE"
   },
   "outputs": [],
   "source": [
    "# Split the combined data\n",
    "X_train1, X_test1, y_train1, y_test1 = train_test_split(combined_one_hot_1, y_train, test_size = .20, \n",
    "                                                    stratify=y_train,random_state = 1)"
   ]
  },
  {
   "cell_type": "code",
   "execution_count": 20,
   "metadata": {
    "colab": {
     "base_uri": "https://localhost:8080/"
    },
    "executionInfo": {
     "elapsed": 484,
     "status": "ok",
     "timestamp": 1639249068503,
     "user": {
      "displayName": "Sumit Jha",
      "photoUrl": "https://lh3.googleusercontent.com/a-/AOh14GhVOl8a8a3yiy_OIJS8QsQgJaquENW3b6sRwdfR=s64",
      "userId": "12043371557728758634"
     },
     "user_tz": 420
    },
    "id": "geVCLka8xxjf",
    "outputId": "a4cc51c4-9baf-4537-fe40-c105880edfda"
   },
   "outputs": [
    {
     "name": "stdout",
     "output_type": "stream",
     "text": [
      "Test Accuracy: 0.893719806763285\n",
      "Confusion Matrix:\n",
      "[[137  24]\n",
      " [ 20 233]]\n",
      "Classification Report\n",
      "              precision    recall  f1-score   support\n",
      "\n",
      "   Cancelled       0.87      0.85      0.86       161\n",
      "     Current       0.91      0.92      0.91       253\n",
      "\n",
      "    accuracy                           0.89       414\n",
      "   macro avg       0.89      0.89      0.89       414\n",
      "weighted avg       0.89      0.89      0.89       414\n",
      "\n"
     ]
    }
   ],
   "source": [
    "#Construct a Random Forest Classifier \n",
    "clf=RandomForestClassifier()\n",
    "RF_Comb_1 = clf.fit(X_train1,y_train1)\n",
    "rf_predictions = clf.predict(X_test1)\n",
    "print(\"Test Accuracy:\", metrics.accuracy_score(y_test1,rf_predictions))\n",
    "#print(\"Accuracy score (training): {0:.6f}\".format(clf.score(X_test1, y_test1)))\n",
    "print(\"Confusion Matrix:\")\n",
    "print(confusion_matrix(y_test1, rf_predictions))\n",
    "print(\"Classification Report\")\n",
    "print(classification_report(y_test1, rf_predictions))\n",
    "\n"
   ]
  },
  {
   "cell_type": "code",
   "execution_count": 21,
   "metadata": {
    "colab": {
     "base_uri": "https://localhost:8080/"
    },
    "executionInfo": {
     "elapsed": 7248,
     "status": "ok",
     "timestamp": 1639249078326,
     "user": {
      "displayName": "Sumit Jha",
      "photoUrl": "https://lh3.googleusercontent.com/a-/AOh14GhVOl8a8a3yiy_OIJS8QsQgJaquENW3b6sRwdfR=s64",
      "userId": "12043371557728758634"
     },
     "user_tz": 420
    },
    "id": "UkzeqH_L1WJT",
    "outputId": "ad941552-77b9-46b5-c0bb-d2bdc24b8abe"
   },
   "outputs": [
    {
     "name": "stdout",
     "output_type": "stream",
     "text": [
      "=== All Accuracy Scores ===\n",
      "[0.85598142 0.8554007  0.84630275 0.89566396 0.8828125  0.9171875\n",
      " 0.83125    0.8109375  0.8671875  0.86875    0.88869048 0.89781746\n",
      " 0.91369048 0.7968254  0.90575397 0.83075397 0.89781746 0.95912698\n",
      " 0.90238095 0.90238095]\n",
      "\n",
      "\n",
      "=== Mean Accuracy Score ===\n",
      "Mean Accuracy Score - ON Text:  0.8763355957220286\n",
      "\n",
      "\n"
     ]
    }
   ],
   "source": [
    "#run cross-validation - COMBINED Data\n",
    "rf_Comb_cv_score = cross_val_score(RF_Comb_1, combined_one_hot_1, y_train, cv=20, scoring=\"balanced_accuracy\")\n",
    "print(\"=== All Accuracy Scores ===\")\n",
    "print(rf_Comb_cv_score)\n",
    "print('\\n')\n",
    "print(\"=== Mean Accuracy Score ===\")\n",
    "print(\"Mean Accuracy Score - ON Text: \",rf_Comb_cv_score.mean())\n",
    "print('\\n')"
   ]
  },
  {
   "cell_type": "code",
   "execution_count": 22,
   "metadata": {
    "colab": {
     "base_uri": "https://localhost:8080/"
    },
    "executionInfo": {
     "elapsed": 5523,
     "status": "ok",
     "timestamp": 1639182911693,
     "user": {
      "displayName": "Sumit Jha",
      "photoUrl": "https://lh3.googleusercontent.com/a-/AOh14GhVOl8a8a3yiy_OIJS8QsQgJaquENW3b6sRwdfR=s64",
      "userId": "12043371557728758634"
     },
     "user_tz": 420
    },
    "id": "jqbfLq71jxit",
    "outputId": "f938f37d-bb15-4175-f3fa-9b45fe78dd93"
   },
   "outputs": [
    {
     "name": "stdout",
     "output_type": "stream",
     "text": [
      "=== All Accuracy Scores ===\n",
      "[0.50483933 0.49690283 0.51645374 0.53290747 0.496875   0.546875\n",
      " 0.5390625  0.5234375  0.509375   0.546875   0.54206349 0.52619048\n",
      " 0.49662698 0.525      0.50119048 0.50456349 0.5125     0.53869048\n",
      " 0.47738095 0.50119048]\n",
      "\n",
      "\n",
      "=== Mean Accuracy Score ===\n",
      "Mean Accuracy Score - ON Text:  0.5169500096786682\n",
      "\n",
      "\n"
     ]
    }
   ],
   "source": [
    "#run cross-validation - Text Data\n",
    "clf_cv_score = cross_val_score(clf, DF_TF_IDF_SelectedFeatures, y_train, cv=20, scoring=\"balanced_accuracy\")\n",
    "print(\"=== All Accuracy Scores ===\")\n",
    "print(clf_cv_score)\n",
    "print('\\n')\n",
    "print(\"=== Mean Accuracy Score ===\")\n",
    "print(\"Mean Accuracy Score - ON Text: \",clf_cv_score.mean())\n",
    "print('\\n')"
   ]
  },
  {
   "cell_type": "code",
   "execution_count": 23,
   "metadata": {
    "colab": {
     "base_uri": "https://localhost:8080/"
    },
    "executionInfo": {
     "elapsed": 133,
     "status": "ok",
     "timestamp": 1639249129882,
     "user": {
      "displayName": "Sumit Jha",
      "photoUrl": "https://lh3.googleusercontent.com/a-/AOh14GhVOl8a8a3yiy_OIJS8QsQgJaquENW3b6sRwdfR=s64",
      "userId": "12043371557728758634"
     },
     "user_tz": 420
    },
    "id": "qf1MEHy8I1f6",
    "outputId": "4929f07b-468b-4168-894b-3f947636e81e"
   },
   "outputs": [
    {
     "name": "stdout",
     "output_type": "stream",
     "text": [
      "(2070, 17)\n",
      "(2070, 9)\n",
      "   Children  Est_Income   Usage        Age  RatePlan  LongDistance  \\\n",
      "0         1    38000.00  229.64  24.393333         3         23.56   \n",
      "1         2    29616.00   75.29  49.426667         2         29.78   \n",
      "2         0    19732.80   47.25  50.673333         3         24.81   \n",
      "3         2       96.33   59.01  56.473333         1         26.13   \n",
      "4         2    52004.80   28.14  25.140000         1          5.03   \n",
      "\n",
      "   International   Local  Dropped  \n",
      "0            0.0  206.08        0  \n",
      "1            0.0   45.50        0  \n",
      "2            0.0   22.44        0  \n",
      "3            0.0   32.88        1  \n",
      "4            0.0   23.11        0  \n",
      "(2070, 14)\n",
      "   Sex_F  Sex_M  Status_D  Status_M  Status_S  Car_Owner_N  Car_Owner_Y  \\\n",
      "0      1      0         0         0         1            1            0   \n",
      "1      0      1         0         1         0            1            0   \n",
      "2      0      1         0         1         0            1            0   \n",
      "3      0      1         0         0         1            1            0   \n",
      "4      1      0         0         1         0            1            0   \n",
      "\n",
      "   Paymethod_Auto  Paymethod_CC  Paymethod_CH  LocalBilltype_Budget  \\\n",
      "0               0             1             0                     1   \n",
      "1               0             0             1                     0   \n",
      "2               0             1             0                     0   \n",
      "3               0             1             0                     1   \n",
      "4               0             0             1                     1   \n",
      "\n",
      "   LocalBilltype_FreeLocal  LongDistanceBilltype_Intnl_discount  \\\n",
      "0                        0                                    1   \n",
      "1                        1                                    0   \n",
      "2                        1                                    0   \n",
      "3                        0                                    0   \n",
      "4                        0                                    1   \n",
      "\n",
      "   LongDistanceBilltype_Standard  \n",
      "0                              0  \n",
      "1                              1  \n",
      "2                              1  \n",
      "3                              1  \n",
      "4                              0  \n",
      "(2070, 23)\n",
      "   Children  Est_Income   Usage        Age  RatePlan  LongDistance  \\\n",
      "0         1    38000.00  229.64  24.393333         3         23.56   \n",
      "1         2    29616.00   75.29  49.426667         2         29.78   \n",
      "2         0    19732.80   47.25  50.673333         3         24.81   \n",
      "3         2       96.33   59.01  56.473333         1         26.13   \n",
      "4         2    52004.80   28.14  25.140000         1          5.03   \n",
      "\n",
      "   International   Local  Dropped  Sex_F  ...  Status_S  Car_Owner_N  \\\n",
      "0            0.0  206.08        0      1  ...         1            1   \n",
      "1            0.0   45.50        0      0  ...         0            1   \n",
      "2            0.0   22.44        0      0  ...         0            1   \n",
      "3            0.0   32.88        1      0  ...         1            1   \n",
      "4            0.0   23.11        0      1  ...         0            1   \n",
      "\n",
      "   Car_Owner_Y  Paymethod_Auto  Paymethod_CC  Paymethod_CH  \\\n",
      "0            0               0             1             0   \n",
      "1            0               0             0             1   \n",
      "2            0               0             1             0   \n",
      "3            0               0             1             0   \n",
      "4            0               0             0             1   \n",
      "\n",
      "   LocalBilltype_Budget  LocalBilltype_FreeLocal  \\\n",
      "0                     1                        0   \n",
      "1                     0                        1   \n",
      "2                     0                        1   \n",
      "3                     1                        0   \n",
      "4                     1                        0   \n",
      "\n",
      "   LongDistanceBilltype_Intnl_discount  LongDistanceBilltype_Standard  \n",
      "0                                    1                              0  \n",
      "1                                    0                              1  \n",
      "2                                    0                              1  \n",
      "3                                    0                              1  \n",
      "4                                    1                              0  \n",
      "\n",
      "[5 rows x 23 columns]\n"
     ]
    }
   ],
   "source": [
    "#Construct a Random Forest Classifier WITHOUT text data\n",
    "print(CustInfoData.shape)\n",
    "X_train1=combined_one_hot.iloc[:,1:10]\n",
    "X_train2=combined_one_hot.iloc[:,60:]\n",
    "print(X_train1.shape)\n",
    "print(X_train1.head())\n",
    "print(X_train2.shape)\n",
    "print(X_train2.head())\n",
    "combined1=pd.concat([X_train1, X_train2], axis=1)\n",
    "print(combined1.shape)\n",
    "print(combined1.head())\n"
   ]
  },
  {
   "cell_type": "code",
   "execution_count": 24,
   "metadata": {
    "colab": {
     "base_uri": "https://localhost:8080/"
    },
    "executionInfo": {
     "elapsed": 619,
     "status": "ok",
     "timestamp": 1639249157250,
     "user": {
      "displayName": "Sumit Jha",
      "photoUrl": "https://lh3.googleusercontent.com/a-/AOh14GhVOl8a8a3yiy_OIJS8QsQgJaquENW3b6sRwdfR=s64",
      "userId": "12043371557728758634"
     },
     "user_tz": 420
    },
    "id": "UqwNFKiHLlbz",
    "outputId": "1d1c6877-c489-401b-f66b-9cff2a1a883d"
   },
   "outputs": [
    {
     "name": "stdout",
     "output_type": "stream",
     "text": [
      "Accuracy score (training): 0.957488\n",
      "Confusion Matrix:\n",
      "[[ 760   44]\n",
      " [  44 1222]]\n",
      "Classification Report\n",
      "              precision    recall  f1-score   support\n",
      "\n",
      "   Cancelled       0.95      0.95      0.95       804\n",
      "     Current       0.97      0.97      0.97      1266\n",
      "\n",
      "    accuracy                           0.96      2070\n",
      "   macro avg       0.96      0.96      0.96      2070\n",
      "weighted avg       0.96      0.96      0.96      2070\n",
      "\n"
     ]
    }
   ],
   "source": [
    "#Construct a Random Forest Classifier WITHOUT text data\n",
    "\n",
    "rf_NT=clf.fit(combined1,y_train)\n",
    "print(\"Accuracy score (training): {0:.6f}\".format(rf_NT.score(combined1, y_train)))\n",
    "rf_predictions = rf_NT.predict(combined1)\n",
    "print(\"Confusion Matrix:\")\n",
    "print(confusion_matrix(y_train, rf_predictions))\n",
    "print(\"Classification Report\")\n",
    "print(classification_report(y_train, rf_predictions))\n"
   ]
  },
  {
   "cell_type": "code",
   "execution_count": 25,
   "metadata": {
    "colab": {
     "base_uri": "https://localhost:8080/"
    },
    "executionInfo": {
     "elapsed": 7029,
     "status": "ok",
     "timestamp": 1639249169068,
     "user": {
      "displayName": "Sumit Jha",
      "photoUrl": "https://lh3.googleusercontent.com/a-/AOh14GhVOl8a8a3yiy_OIJS8QsQgJaquENW3b6sRwdfR=s64",
      "userId": "12043371557728758634"
     },
     "user_tz": 420
    },
    "id": "1MWgcUkWh0cI",
    "outputId": "a4e41b9b-a58e-4ad5-992e-b48f5540bb93"
   },
   "outputs": [
    {
     "name": "stdout",
     "output_type": "stream",
     "text": [
      "=== All Accuracy Scores ===\n",
      "[0.84436702 0.89198606 0.89508324 0.91153697 0.890625   0.934375\n",
      " 0.8515625  0.81875    0.8671875  0.90625    0.91369048 0.90119048\n",
      " 0.93075397 0.8172619  0.90575397 0.79781746 0.88988095 0.93869048\n",
      " 0.88194444 0.93075397]\n",
      "\n",
      "\n",
      "=== Mean Accuracy Score ===\n",
      "Mean Accuracy Score - WITHOUT Text:  0.8859730691056911\n",
      "\n",
      "\n"
     ]
    }
   ],
   "source": [
    "#run cross-validation - WITHOUT Text Data\n",
    "rf_NT_cv_score = cross_val_score(rf_NT, combined1, y_train, cv=20, scoring=\"balanced_accuracy\")\n",
    "print(\"=== All Accuracy Scores ===\")\n",
    "print(rf_NT_cv_score)\n",
    "print('\\n')\n",
    "print(\"=== Mean Accuracy Score ===\")\n",
    "print(\"Mean Accuracy Score - WITHOUT Text: \",rf_NT_cv_score.mean())\n",
    "print('\\n')\n"
   ]
  },
  {
   "cell_type": "code",
   "execution_count": null,
   "metadata": {},
   "outputs": [],
   "source": []
  }
 ],
 "metadata": {
  "accelerator": "GPU",
  "colab": {
   "collapsed_sections": [],
   "name": "Text_Mining.ipynb",
   "provenance": []
  },
  "kernelspec": {
   "display_name": "Python 3",
   "language": "python",
   "name": "python3"
  },
  "language_info": {
   "codemirror_mode": {
    "name": "ipython",
    "version": 3
   },
   "file_extension": ".py",
   "mimetype": "text/x-python",
   "name": "python",
   "nbconvert_exporter": "python",
   "pygments_lexer": "ipython3",
   "version": "3.8.8"
  }
 },
 "nbformat": 4,
 "nbformat_minor": 1
}
